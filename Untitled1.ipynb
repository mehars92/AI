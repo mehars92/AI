{
  "nbformat": 4,
  "nbformat_minor": 0,
  "metadata": {
    "colab": {
      "provenance": []
    },
    "kernelspec": {
      "name": "python3",
      "display_name": "Python 3"
    },
    "language_info": {
      "name": "python"
    }
  },
  "cells": [
    {
      "cell_type": "code",
      "execution_count": 4,
      "metadata": {
        "id": "LJxUMrs8RsRa"
      },
      "outputs": [],
      "source": [
        "# Graph of cities in Pakistan\n",
        "pakistan_cities = {\n",
        "    'Karachi': ['Hyderabad', 'Quetta'],\n",
        "    'Hyderabad': ['Karachi', 'Sukkur', 'Multan'],\n",
        "    'Quetta': ['Karachi', 'Sukkur'],\n",
        "    'Sukkur': ['Hyderabad', 'Quetta', 'Multan', 'Islamabad'],\n",
        "    'Multan': ['Hyderabad', 'Sukkur', 'Lahore'],\n",
        "    'Islamabad': ['Sukkur', 'Lahore', 'Peshawar'],\n",
        "    'Lahore': ['Multan', 'Islamabad', 'Faisalabad'],\n",
        "    'Faisalabad': ['Lahore'],\n",
        "    'Peshawar': ['Islamabad']\n",
        "}"
      ]
    },
    {
      "cell_type": "code",
      "source": [
        "def BFS(graph, start):\n",
        "    queue = [start]  # Initialize queue with the starting node\n",
        "    visited = set()  # Set to keep track of visited nodes\n",
        "    visited.add(start)\n",
        "\n",
        "    while queue:\n",
        "        node = queue.pop(0)  # Dequeue the front node\n",
        "        print(node)  # Process the node (e.g., print it)\n",
        "\n",
        "        for neighbor in graph[node]:  # Explore neighbors\n",
        "            if neighbor not in visited:\n",
        "                visited.add(neighbor)\n",
        "                queue.append(neighbor)  # Enqueue unvisited neighbors\n",
        "# Graph of cities in Pakistan\n",
        "pakistan_cities = {\n",
        "    'Karachi': ['Hyderabad', 'Quetta'],\n",
        "    'Hyderabad': ['Karachi', 'Sukkur', 'Multan'],\n",
        "    'Quetta': ['Karachi', 'Sukkur'],\n",
        "    'Sukkur': ['Hyderabad', 'Quetta', 'Multan', 'Islamabad'],\n",
        "    'Multan': ['Hyderabad', 'Sukkur', 'Lahore'],\n",
        "    'Islamabad': ['Sukkur', 'Lahore', 'Peshawar'],\n",
        "    'Lahore': ['Multan', 'Islamabad', 'Faisalabad'],\n",
        "    'Faisalabad': ['Lahore'],\n",
        "    'Peshawar': ['Islamabad']\n",
        "}\n",
        "\n",
        "BFS(pakistan_cities, 'Karachi')"
      ],
      "metadata": {
        "colab": {
          "base_uri": "https://localhost:8080/"
        },
        "id": "PCUenlBUSCy6",
        "outputId": "c8e2a4b8-e75d-4b74-e82e-c5937725084e"
      },
      "execution_count": 5,
      "outputs": [
        {
          "output_type": "stream",
          "name": "stdout",
          "text": [
            "Karachi\n",
            "Hyderabad\n",
            "Quetta\n",
            "Sukkur\n",
            "Multan\n",
            "Islamabad\n",
            "Lahore\n",
            "Peshawar\n",
            "Faisalabad\n"
          ]
        }
      ]
    }
  ]
}