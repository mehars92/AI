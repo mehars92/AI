{
  "nbformat": 4,
  "nbformat_minor": 0,
  "metadata": {
    "colab": {
      "provenance": [],
      "authorship_tag": "ABX9TyOcyTAg5nrZ2Y2BdsroNkMU",
      "include_colab_link": true
    },
    "kernelspec": {
      "name": "python3",
      "display_name": "Python 3"
    },
    "language_info": {
      "name": "python"
    }
  },
  "cells": [
    {
      "cell_type": "markdown",
      "metadata": {
        "id": "view-in-github",
        "colab_type": "text"
      },
      "source": [
        "<a href=\"https://colab.research.google.com/github/mehars92/AI/blob/main/TASK%20OF%20CSP.ipynb\" target=\"_parent\"><img src=\"https://colab.research.google.com/assets/colab-badge.svg\" alt=\"Open In Colab\"/></a>"
      ]
    },
    {
      "cell_type": "code",
      "execution_count": 1,
      "metadata": {
        "colab": {
          "base_uri": "https://localhost:8080/"
        },
        "id": "zp9PcYCjFh5_",
        "outputId": "0515f311-2b45-4c0f-e0c3-e9cd942459a2"
      },
      "outputs": [
        {
          "output_type": "stream",
          "name": "stdout",
          "text": [
            "Solution to Australian Map Coloring Problem:\n",
            "WA: Red\n",
            "NT: Green\n",
            "SA: Blue\n",
            "QLD: Red\n",
            "NSW: Green\n",
            "VIC: Red\n",
            "TAS: Red\n"
          ]
        }
      ],
      "source": [
        "states = ['WA', 'NT', 'SA', 'QLD', 'NSW', 'VIC', 'TAS']\n",
        "colors = ['Red', 'Green', 'Blue']\n",
        "adjacency = {\n",
        "    'WA': ['NT', 'SA'],\n",
        "    'NT': ['WA', 'SA', 'QLD'],\n",
        "    'SA': ['WA', 'NT', 'QLD', 'NSW', 'VIC'],\n",
        "    'QLD': ['NT', 'SA', 'NSW'],\n",
        "    'NSW': ['SA', 'QLD', 'VIC'],\n",
        "    'VIC': ['SA', 'NSW'],\n",
        "    'TAS': []\n",
        "}\n",
        "\n",
        "def is_valid(state, color, assignment):\n",
        "    for neighbor in adjacency[state]:\n",
        "        if neighbor in assignment and assignment[neighbor] == color:\n",
        "            return False\n",
        "    return True\n",
        "\n",
        "def backtrack(assignment):\n",
        "    if len(assignment) == len(states):\n",
        "        return assignment\n",
        "    unassigned = [s for s in states if s not in assignment][0]\n",
        "    for color in colors:\n",
        "        if is_valid(unassigned, color, assignment):\n",
        "            assignment[unassigned] = color\n",
        "            result = backtrack(assignment)\n",
        "            if result:\n",
        "                return result\n",
        "            del assignment[unassigned]\n",
        "    return None\n",
        "\n",
        "solution = backtrack({})\n",
        "\n",
        "if solution:\n",
        "    print(\"Solution to Australian Map Coloring Problem:\")\n",
        "    for state in states:\n",
        "        print(f\"{state}: {solution[state]}\")\n",
        "else:\n",
        "    print(\"No solution found.\")\n"
      ]
    }
  ]
}