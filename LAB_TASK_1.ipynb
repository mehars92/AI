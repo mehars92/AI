{
  "nbformat": 4,
  "nbformat_minor": 0,
  "metadata": {
    "colab": {
      "provenance": [],
      "authorship_tag": "ABX9TyMz1fsZhzQeU3ZDqvAQ0Yc1",
      "include_colab_link": true
    },
    "kernelspec": {
      "name": "python3",
      "display_name": "Python 3"
    },
    "language_info": {
      "name": "python"
    }
  },
  "cells": [
    {
      "cell_type": "markdown",
      "metadata": {
        "id": "view-in-github",
        "colab_type": "text"
      },
      "source": [
        "<a href=\"https://colab.research.google.com/github/mehars92/AI/blob/main/LAB_TASK_1.ipynb\" target=\"_parent\"><img src=\"https://colab.research.google.com/assets/colab-badge.svg\" alt=\"Open In Colab\"/></a>"
      ]
    },
    {
      "cell_type": "code",
      "execution_count": 1,
      "metadata": {
        "colab": {
          "base_uri": "https://localhost:8080/"
        },
        "id": "uwp15K6yfO5A",
        "outputId": "5a3beed3-37b1-43cc-fdce-86afcaaa7638"
      },
      "outputs": [
        {
          "output_type": "stream",
          "name": "stdout",
          "text": [
            "Map Coloring Solution:\n",
            "NSW: Green\n",
            "NT: Green\n",
            "Q: Red\n",
            "SA: Blue\n",
            "T: Red\n",
            "V: Red\n",
            "WA: Red\n"
          ]
        }
      ],
      "source": [
        "# Australian Map Coloring using Backtracking\n",
        "\n",
        "# Define the regions and their neighbors (adjacency list)\n",
        "neighbors = {\n",
        "    'WA': ['NT', 'SA'],\n",
        "    'NT': ['WA', 'SA', 'Q'],\n",
        "    'SA': ['WA', 'NT', 'Q', 'NSW', 'V'],\n",
        "    'Q': ['NT', 'SA', 'NSW'],\n",
        "    'NSW': ['Q', 'SA', 'V'],\n",
        "    'V': ['SA', 'NSW'],\n",
        "    'T': []  # Tasmania has no neighbors\n",
        "}\n",
        "\n",
        "# Define available colors\n",
        "colors = ['Red', 'Green', 'Blue']\n",
        "\n",
        "# Function to check if current assignment is valid\n",
        "def is_valid(region, color, assignment):\n",
        "    for neighbor in neighbors[region]:\n",
        "        if neighbor in assignment and assignment[neighbor] == color:\n",
        "            return False\n",
        "    return True\n",
        "\n",
        "# Backtracking algorithm\n",
        "def backtrack(assignment):\n",
        "    # If all regions are assigned a color, return the solution\n",
        "    if len(assignment) == len(neighbors):\n",
        "        return assignment\n",
        "\n",
        "    # Select an unassigned region\n",
        "    unassigned = [r for r in neighbors if r not in assignment]\n",
        "    region = unassigned[0]\n",
        "\n",
        "    # Try all colors for the selected region\n",
        "    for color in colors:\n",
        "        if is_valid(region, color, assignment):\n",
        "            assignment[region] = color\n",
        "            result = backtrack(assignment)\n",
        "            if result:\n",
        "                return result\n",
        "            # Backtrack\n",
        "            del assignment[region]\n",
        "\n",
        "    return None  # No valid assignment found\n",
        "\n",
        "# Solve the problem\n",
        "solution = backtrack({})\n",
        "\n",
        "# Output the solution\n",
        "if solution:\n",
        "    print(\"Map Coloring Solution:\")\n",
        "    for region in sorted(solution):\n",
        "        print(f\"{region}: {solution[region]}\")\n",
        "else:\n",
        "    print(\"No solution found.\")\n"
      ]
    }
  ]
}