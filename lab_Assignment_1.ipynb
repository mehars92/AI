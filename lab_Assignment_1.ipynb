{
  "nbformat": 4,
  "nbformat_minor": 0,
  "metadata": {
    "colab": {
      "provenance": []
    },
    "kernelspec": {
      "name": "python3",
      "display_name": "Python 3"
    },
    "language_info": {
      "name": "python"
    }
  },
  "cells": [
    {
      "cell_type": "code",
      "execution_count": 1,
      "metadata": {
        "colab": {
          "base_uri": "https://localhost:8080/"
        },
        "id": "9t33xUaEAk0h",
        "outputId": "266f16b9-e712-476a-8cff-474ec1d48e30"
      },
      "outputs": [
        {
          "output_type": "stream",
          "name": "stdout",
          "text": [
            "BFS Traversal:\n",
            "A B C D E F \n",
            "\n",
            "DFS Traversal:\n",
            "A B D E F C "
          ]
        }
      ],
      "source": [
        "# Task 1: BFS and DFS on a simple graph\n",
        "\n",
        "from collections import deque\n",
        "\n",
        "# Sample graph (adjacency list)\n",
        "graph = {\n",
        "    'A': ['B', 'C'],\n",
        "    'B': ['D', 'E'],\n",
        "    'C': ['F'],\n",
        "    'D': [],\n",
        "    'E': ['F'],\n",
        "    'F': []\n",
        "}\n",
        "\n",
        "# Breadth-First Search (BFS)\n",
        "def bfs(graph, start):\n",
        "    visited = set()\n",
        "    queue = deque([start])\n",
        "    print(\"BFS Traversal:\")\n",
        "    while queue:\n",
        "        node = queue.popleft()\n",
        "        if node not in visited:\n",
        "            print(node, end=' ')\n",
        "            visited.add(node)\n",
        "            queue.extend(graph[node])\n",
        "\n",
        "# Depth-First Search (DFS)\n",
        "def dfs(graph, start, visited=None):\n",
        "    if visited is None:\n",
        "        visited = set()\n",
        "        print(\"DFS Traversal:\")\n",
        "    if start not in visited:\n",
        "        print(start, end=' ')\n",
        "        visited.add(start)\n",
        "        for neighbor in graph[start]:\n",
        "            dfs(graph, neighbor, visited)\n",
        "\n",
        "bfs(graph, 'A')\n",
        "print(\"\\n\")\n",
        "dfs(graph, 'A')\n"
      ]
    },
    {
      "cell_type": "markdown",
      "source": [
        "Task 2"
      ],
      "metadata": {
        "id": "tlODiBg0Ay3L"
      }
    },
    {
      "cell_type": "code",
      "source": [
        "import random\n",
        "import time\n",
        "import pandas as pd\n",
        "import matplotlib.pyplot as plt\n",
        "\n",
        "# BFS and DFS for tree stored as list\n",
        "def bfs_tree(tree, goal):\n",
        "    queue = deque([0])\n",
        "    visited = set()\n",
        "    while queue:\n",
        "        index = queue.popleft()\n",
        "        if index in visited or index >= len(tree):\n",
        "            continue\n",
        "        visited.add(index)\n",
        "        if tree[index] == goal:\n",
        "            return True\n",
        "        left = 2 * index + 1\n",
        "        right = 2 * index + 2\n",
        "        queue.extend([left, right])\n",
        "    return False\n",
        "\n",
        "def dfs_tree(tree, goal):\n",
        "    stack = [0]\n",
        "    visited = set()\n",
        "    while stack:\n",
        "        index = stack.pop()\n",
        "        if index in visited or index >= len(tree):\n",
        "            continue\n",
        "        visited.add(index)\n",
        "        if tree[index] == goal:\n",
        "            return True\n",
        "        right = 2 * index + 2\n",
        "        left = 2 * index + 1\n",
        "        stack.extend([right, left])\n",
        "    return False\n",
        "\n",
        "sizes = [1000, 40000, 80000, 200000, 1000000]\n",
        "bfs_times = []\n",
        "dfs_times = []\n",
        "\n",
        "for size in sizes:\n",
        "    data = random.sample(range(size * 10), size)\n",
        "    goal = data[-220]  # list[total_len - 220]\n",
        "\n",
        "    # Time BFS\n",
        "    start_bfs = time.time()\n",
        "    bfs_tree(data, goal)\n",
        "    end_bfs = time.time()\n",
        "    bfs_times.append(end_bfs - start_bfs)\n",
        "\n",
        "    # Time DFS\n",
        "    start_dfs = time.time()\n",
        "    dfs_tree(data, goal)\n",
        "    end_dfs = time.time()\n",
        "    dfs_times.append(end_dfs - start_dfs)\n",
        "\n",
        "# Create DataFrame\n",
        "df = pd.DataFrame({\n",
        "    'Size': sizes,\n",
        "    'BFS Time (s)': bfs_times,\n",
        "    'DFS Time (s)': dfs_times\n",
        "})\n",
        "\n",
        "print(df)\n",
        "\n",
        "# Plot Bar Chart\n",
        "df.plot(x='Size', y=['BFS Time (s)', 'DFS Time (s)'], kind='bar')\n",
        "plt.title('BFS vs DFS Time Comparison')\n",
        "plt.ylabel('Time (seconds)')\n",
        "plt.xlabel('Input Size')\n",
        "plt.grid(True)\n",
        "plt.tight_layout()\n",
        "plt.show()\n"
      ],
      "metadata": {
        "colab": {
          "base_uri": "https://localhost:8080/",
          "height": 591
        },
        "id": "_uo4ToCjA6mA",
        "outputId": "379bf320-3115-49e2-e1bf-b5a112902740"
      },
      "execution_count": 2,
      "outputs": [
        {
          "output_type": "stream",
          "name": "stdout",
          "text": [
            "      Size  BFS Time (s)  DFS Time (s)\n",
            "0     1000      0.000401      0.000261\n",
            "1    40000      0.026108      0.006743\n",
            "2    80000      0.051207      0.014915\n",
            "3   200000      0.124658      0.092171\n",
            "4  1000000      0.673278      0.534473\n"
          ]
        },
        {
          "output_type": "display_data",
          "data": {
            "text/plain": [
              "<Figure size 640x480 with 1 Axes>"
            ],
            "image/png": "[encoded data removed]"
          },
          "metadata": {}
        }
      ]
    },
    {
      "cell_type": "markdown",
      "source": [
        "Task 3\n"
      ],
      "metadata": {
        "id": "DldiCoMrBDSo"
      }
    },
    {
      "cell_type": "code",
      "source": [
        "# Task 3: City Map - Find shortest path using BFS\n",
        "\n",
        "city_graph = {\n",
        "    'Islamabad': ['Rawalpindi', 'Lahore', 'Peshawar'],\n",
        "    'Rawalpindi': ['Islamabad', 'Peshawar', 'Quetta'],\n",
        "    'Peshawar': ['Islamabad', 'Rawalpindi', 'Quetta'],\n",
        "    'Lahore': ['Islamabad', 'Multan', 'Quetta'],\n",
        "    'Multan': ['Lahore', 'Karachi', 'Quetta'],\n",
        "    'Quetta': ['Rawalpindi', 'Peshawar', 'Multan', 'Karachi'],\n",
        "    'Karachi': ['Multan', 'Quetta']\n",
        "}\n",
        "\n",
        "def bfs_shortest_path(graph, start, goal):\n",
        "    queue = deque([[start]])\n",
        "    visited = set()\n",
        "    while queue:\n",
        "        path = queue.popleft()\n",
        "        city = path[-1]\n",
        "        if city == goal:\n",
        "            return path\n",
        "        elif city not in visited:\n",
        "            for neighbor in graph[city]:\n",
        "                new_path = list(path)\n",
        "                new_path.append(neighbor)\n",
        "                queue.append(new_path)\n",
        "            visited.add(city)\n",
        "\n",
        "path = bfs_shortest_path(city_graph, 'Islamabad', 'Karachi')\n",
        "print(\"Shortest path from Islamabad to Karachi:\", \" → \".join(path))\n"
      ],
      "metadata": {
        "colab": {
          "base_uri": "https://localhost:8080/"
        },
        "id": "yFJYSmYhBF3Q",
        "outputId": "9c663b2c-8568-4d57-d545-d6ba59a23597"
      },
      "execution_count": 3,
      "outputs": [
        {
          "output_type": "stream",
          "name": "stdout",
          "text": [
            "Shortest path from Islamabad to Karachi: Islamabad → Rawalpindi → Quetta → Karachi\n"
          ]
        }
      ]
    }
  ]
}